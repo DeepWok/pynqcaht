{
 "cells": [
  {
   "cell_type": "code",
   "execution_count": 1,
   "id": "e0b36132",
   "metadata": {},
   "outputs": [
    {
     "data": {
      "application/javascript": [
       "\n",
       "try {\n",
       "require(['notebook/js/codecell'], function(codecell) {\n",
       "  codecell.CodeCell.options_default.highlight_modes[\n",
       "      'magic_text/x-csrc'] = {'reg':[/^%%microblaze/]};\n",
       "  Jupyter.notebook.events.one('kernel_ready.Kernel', function(){\n",
       "      Jupyter.notebook.get_cells().map(function(cell){\n",
       "          if (cell.cell_type == 'code'){ cell.auto_highlight(); } }) ;\n",
       "  });\n",
       "});\n",
       "} catch (e) {};\n"
      ]
     },
     "metadata": {},
     "output_type": "display_data"
    },
    {
     "data": {
      "application/javascript": [
       "\n",
       "try {\n",
       "require(['notebook/js/codecell'], function(codecell) {\n",
       "  codecell.CodeCell.options_default.highlight_modes[\n",
       "      'magic_text/x-csrc'] = {'reg':[/^%%pybind11/]};\n",
       "  Jupyter.notebook.events.one('kernel_ready.Kernel', function(){\n",
       "      Jupyter.notebook.get_cells().map(function(cell){\n",
       "          if (cell.cell_type == 'code'){ cell.auto_highlight(); } }) ;\n",
       "  });\n",
       "});\n",
       "} catch (e) {};\n"
      ]
     },
     "metadata": {},
     "output_type": "display_data"
    }
   ],
   "source": [
    "from pynq import Overlay, allocate\n",
    "\n",
    "overlay = Overlay('/home/xilinx/jupyter_notebooks/ws/pynq-caht/base3.bit')"
   ]
  },
  {
   "cell_type": "code",
   "execution_count": 2,
   "id": "1abc49c9",
   "metadata": {},
   "outputs": [],
   "source": [
    "audio = overlay.audio_direct_0"
   ]
  },
  {
   "cell_type": "code",
   "execution_count": 3,
   "id": "d4ea7db7",
   "metadata": {},
   "outputs": [
    {
     "name": "stdout",
     "output_type": "stream",
     "text": [
      "0x40000000\n"
     ]
    }
   ],
   "source": [
    "print(hex(audio.mmio.base_addr))"
   ]
  },
  {
   "cell_type": "code",
   "execution_count": 4,
   "id": "a9465eb2",
   "metadata": {},
   "outputs": [
    {
     "name": "stdout",
     "output_type": "stream",
     "text": [
      "time: 19.970481872558594\n"
     ]
    }
   ],
   "source": [
    "audio.record(20)"
   ]
  },
  {
   "cell_type": "code",
   "execution_count": 5,
   "id": "4d24cdd7",
   "metadata": {},
   "outputs": [],
   "source": [
    "audio.save(\"rec1.wav\")"
   ]
  },
  {
   "cell_type": "code",
   "execution_count": 6,
   "id": "b7cde92b",
   "metadata": {},
   "outputs": [
    {
     "data": {
      "text/plain": [
       "19528.82271388245"
      ]
     },
     "execution_count": 6,
     "metadata": {},
     "output_type": "execute_result"
    }
   ],
   "source": [
    "audio.sample_rate"
   ]
  }
 ],
 "metadata": {
  "kernelspec": {
   "display_name": "Python 3",
   "language": "python",
   "name": "python3"
  },
  "language_info": {
   "codemirror_mode": {
    "name": "ipython",
    "version": 3
   },
   "file_extension": ".py",
   "mimetype": "text/x-python",
   "name": "python",
   "nbconvert_exporter": "python",
   "pygments_lexer": "ipython3",
   "version": "3.8.2"
  }
 },
 "nbformat": 4,
 "nbformat_minor": 5
}
