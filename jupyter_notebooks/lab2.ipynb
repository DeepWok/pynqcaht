{
 "cells": [
  {
   "cell_type": "markdown",
   "id": "d877b76d",
   "metadata": {},
   "source": [
    "## Lab 2: Audio Format Conversion"
   ]
  },
  {
   "cell_type": "markdown",
   "id": "60265e0d",
   "metadata": {},
   "source": [
    "The goal of this lab is to create an overlay in Vivado which we can use to demonstrate the power of FPGAs in audio format conversion.\n",
    "\n",
    "We first start with the BaseOverlay, which is a pre-built overlay in the PYNQ image which allows you to access the different peripherals, such as HDMI, Audio, GPIOs, etc.\n",
    "\n",
    "Reference: https://github.com/Xilinx/PYNQ/blob/master/boards/Pynq-Z1/base/notebooks/audio/audio_playback.ipynb"
   ]
  },
  {
   "cell_type": "code",
   "execution_count": 1,
   "id": "14ffdb1e",
   "metadata": {},
   "outputs": [
    {
     "data": {
      "application/javascript": [
       "\n",
       "try {\n",
       "require(['notebook/js/codecell'], function(codecell) {\n",
       "  codecell.CodeCell.options_default.highlight_modes[\n",
       "      'magic_text/x-csrc'] = {'reg':[/^%%microblaze/]};\n",
       "  Jupyter.notebook.events.one('kernel_ready.Kernel', function(){\n",
       "      Jupyter.notebook.get_cells().map(function(cell){\n",
       "          if (cell.cell_type == 'code'){ cell.auto_highlight(); } }) ;\n",
       "  });\n",
       "});\n",
       "} catch (e) {};\n"
      ]
     },
     "metadata": {},
     "output_type": "display_data"
    },
    {
     "data": {
      "application/javascript": [
       "\n",
       "try {\n",
       "require(['notebook/js/codecell'], function(codecell) {\n",
       "  codecell.CodeCell.options_default.highlight_modes[\n",
       "      'magic_text/x-csrc'] = {'reg':[/^%%pybind11/]};\n",
       "  Jupyter.notebook.events.one('kernel_ready.Kernel', function(){\n",
       "      Jupyter.notebook.get_cells().map(function(cell){\n",
       "          if (cell.cell_type == 'code'){ cell.auto_highlight(); } }) ;\n",
       "  });\n",
       "});\n",
       "} catch (e) {};\n"
      ]
     },
     "metadata": {},
     "output_type": "display_data"
    }
   ],
   "source": [
    "from pynq.overlays.base import BaseOverlay\n",
    "base = BaseOverlay(\"base.bit\")\n",
    "pAudio = base.audio"
   ]
  },
  {
   "cell_type": "markdown",
   "id": "0b35bf3a",
   "metadata": {},
   "source": [
    "### Load and play\n",
    "\n",
    "Here we load a recording included in the PYNQ image. "
   ]
  },
  {
   "cell_type": "code",
   "execution_count": 2,
   "id": "03448530",
   "metadata": {},
   "outputs": [],
   "source": [
    "pAudio.load(\"/home/xilinx/pynq/lib/tests/pynq_welcome.pdm\")\n",
    "pAudio.play()"
   ]
  },
  {
   "cell_type": "code",
   "execution_count": 3,
   "id": "88066609",
   "metadata": {},
   "outputs": [
    {
     "name": "stdout",
     "output_type": "stream",
     "text": [
      "time: 0.4996337890625\n"
     ]
    }
   ],
   "source": [
    "pAudio.record(5)\n",
    "pAudio.save(\"recording_1.pdm\")"
   ]
  },
  {
   "cell_type": "code",
   "execution_count": null,
   "id": "bb44a2b6",
   "metadata": {},
   "outputs": [],
   "source": [
    "pAudio.load(\"recording_1.pdm\")\n",
    "pAudio.play()"
   ]
  },
  {
   "cell_type": "code",
   "execution_count": 5,
   "id": "f3af4d3a",
   "metadata": {},
   "outputs": [],
   "source": [
    "pAudio.bypass_start()  # Start streaming audio directly"
   ]
  },
  {
   "cell_type": "code",
   "execution_count": 6,
   "id": "c276bd61",
   "metadata": {},
   "outputs": [],
   "source": [
    "pAudio.bypass_stop()"
   ]
  }
 ],
 "metadata": {
  "kernelspec": {
   "display_name": "Python 3",
   "language": "python",
   "name": "python3"
  },
  "language_info": {
   "codemirror_mode": {
    "name": "ipython",
    "version": 3
   },
   "file_extension": ".py",
   "mimetype": "text/x-python",
   "name": "python",
   "nbconvert_exporter": "python",
   "pygments_lexer": "ipython3",
   "version": "3.8.2"
  }
 },
 "nbformat": 4,
 "nbformat_minor": 5
}
